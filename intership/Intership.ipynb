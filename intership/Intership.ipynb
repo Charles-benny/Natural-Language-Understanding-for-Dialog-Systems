{
  "cells": [
    {
      "cell_type": "code",
      "execution_count": 17,
      "metadata": {
        "colab": {
          "base_uri": "https://localhost:8080/"
        },
        "id": "43BOOzHRcxAP",
        "outputId": "25f9db89-1e1d-4ff8-f1a0-e1cfb7badd8c"
      },
      "outputs": [
        {
          "name": "stdout",
          "output_type": "stream",
          "text": [
            "CSV file 'travel_data.csv' has been generated successfully.\n"
          ]
        }
      ],
      "source": [
        "import csv\n",
        "\n",
        "# Sample dataset containing user utterances and their intents\n",
        "data = {\n",
        "    'utterance': ['What is the weather like today?',\n",
        "                  'Could you tell me what\\'s the weather like today?',\n",
        "                  'How the weather looking for today?',\n",
        "                  'Any idea about today\\'s weather forecast?',\n",
        "                  'Do you have any information on today\\'s weather conditions?',\n",
        "                  'Could you give me an update on today\\'s weather?',\n",
        "                  'What\\'s the forecast for today weather is ?',\n",
        "                  'Can you let me know how the weather is today?',\n",
        "                  'I am curious, what\\'s the weather doing today?',\n",
        "                  'What is the current weather situation?',\n",
        "                  'What\\'s the current weather situation?',\n",
        "                  'What is the current weather Condition?',\n",
        "                  'What\\'s the current weather Condition?',\n",
        "\n",
        "\n",
        "                  'Book a flight to New York',\n",
        "                  'I\\'d like to reserve a flight to New York.',\n",
        "                  'Can you help me book a flight to New York?,'\n",
        "                  'I need to purchase a plane ticket to New York.',\n",
        "                  'Could you assist me with booking a flight to New York?',\n",
        "                  'I\\'m looking to fly to New York; can you help me with that?',\n",
        "                  'I want to arrange a flight to New York.',\n",
        "                  'Please book me a flight to New York.',\n",
        "                  'I\\'d like to make a reservation for a flight to New York.',\n",
        "                  'Can you book flight to New York?',\n",
        "                  'How do I go about booking a flight to New York?',\n",
        "\n",
        "                  'Set an alarm for 7am',\n",
        "\n",
        "                  'Buy milk'],\n",
        "\n",
        "\n",
        "    'intent': ['weather', 'weather','weather','weather','weather','weather','weather','weather','weather','weather','weather','weather',\n",
        "\n",
        "               'book_flight', 'book_flight', 'book_flight', 'book_flight', 'book_flight', 'book_flight', 'book_flight', 'book_flight', 'book_flight', 'book_flight', 'book_flight',\n",
        "\n",
        "               'set_alarm',\n",
        "\n",
        "               'buy']\n",
        "}\n",
        "\n",
        "# Define the file name\n",
        "file_name = 'travel_data.csv'\n",
        "\n",
        "# Write data to CSV file\n",
        "with open(file_name, mode='w', newline='') as file:\n",
        "    writer = csv.writer(file)\n",
        "    writer.writerow(['utterance', 'intent'])  # Write header\n",
        "    for utterance, intent in zip(data['utterance'], data['intent']):\n",
        "        writer.writerow([utterance, intent])\n",
        "\n",
        "print(f\"CSV file '{file_name}' has been generated successfully.\")\n"
      ]
    },
    {
      "cell_type": "code",
      "execution_count": 18,
      "metadata": {},
      "outputs": [
        {
          "name": "stdout",
          "output_type": "stream",
          "text": [
            "Requirement already satisfied: spacy in d:\\users\\charl\\anaconda3\\envs\\venv\\lib\\site-packages (3.7.4)\n",
            "Requirement already satisfied: spacy-legacy<3.1.0,>=3.0.11 in d:\\users\\charl\\anaconda3\\envs\\venv\\lib\\site-packages (from spacy) (3.0.12)\n",
            "Requirement already satisfied: spacy-loggers<2.0.0,>=1.0.0 in d:\\users\\charl\\anaconda3\\envs\\venv\\lib\\site-packages (from spacy) (1.0.5)\n",
            "Requirement already satisfied: murmurhash<1.1.0,>=0.28.0 in d:\\users\\charl\\anaconda3\\envs\\venv\\lib\\site-packages (from spacy) (1.0.10)\n",
            "Requirement already satisfied: cymem<2.1.0,>=2.0.2 in d:\\users\\charl\\anaconda3\\envs\\venv\\lib\\site-packages (from spacy) (2.0.8)\n",
            "Requirement already satisfied: preshed<3.1.0,>=3.0.2 in d:\\users\\charl\\anaconda3\\envs\\venv\\lib\\site-packages (from spacy) (3.0.9)\n",
            "Requirement already satisfied: thinc<8.3.0,>=8.2.2 in d:\\users\\charl\\anaconda3\\envs\\venv\\lib\\site-packages (from spacy) (8.2.3)\n",
            "Requirement already satisfied: wasabi<1.2.0,>=0.9.1 in d:\\users\\charl\\anaconda3\\envs\\venv\\lib\\site-packages (from spacy) (1.1.2)\n",
            "Requirement already satisfied: srsly<3.0.0,>=2.4.3 in d:\\users\\charl\\anaconda3\\envs\\venv\\lib\\site-packages (from spacy) (2.4.8)\n",
            "Requirement already satisfied: catalogue<2.1.0,>=2.0.6 in d:\\users\\charl\\anaconda3\\envs\\venv\\lib\\site-packages (from spacy) (2.0.10)\n",
            "Requirement already satisfied: weasel<0.4.0,>=0.1.0 in d:\\users\\charl\\anaconda3\\envs\\venv\\lib\\site-packages (from spacy) (0.3.4)\n",
            "Requirement already satisfied: typer<0.10.0,>=0.3.0 in d:\\users\\charl\\anaconda3\\envs\\venv\\lib\\site-packages (from spacy) (0.9.4)\n",
            "Requirement already satisfied: smart-open<7.0.0,>=5.2.1 in d:\\users\\charl\\anaconda3\\envs\\venv\\lib\\site-packages (from spacy) (6.4.0)\n",
            "Requirement already satisfied: tqdm<5.0.0,>=4.38.0 in d:\\users\\charl\\anaconda3\\envs\\venv\\lib\\site-packages (from spacy) (4.66.2)\n",
            "Requirement already satisfied: requests<3.0.0,>=2.13.0 in d:\\users\\charl\\anaconda3\\envs\\venv\\lib\\site-packages (from spacy) (2.31.0)\n",
            "Requirement already satisfied: pydantic!=1.8,!=1.8.1,<3.0.0,>=1.7.4 in d:\\users\\charl\\anaconda3\\envs\\venv\\lib\\site-packages (from spacy) (2.6.4)\n",
            "Requirement already satisfied: jinja2 in d:\\users\\charl\\anaconda3\\envs\\venv\\lib\\site-packages (from spacy) (3.1.3)\n",
            "Requirement already satisfied: setuptools in d:\\users\\charl\\anaconda3\\envs\\venv\\lib\\site-packages (from spacy) (68.2.2)\n",
            "Requirement already satisfied: packaging>=20.0 in d:\\users\\charl\\anaconda3\\envs\\venv\\lib\\site-packages (from spacy) (23.2)\n",
            "Requirement already satisfied: langcodes<4.0.0,>=3.2.0 in d:\\users\\charl\\anaconda3\\envs\\venv\\lib\\site-packages (from spacy) (3.4.0)\n",
            "Requirement already satisfied: numpy>=1.19.0 in d:\\users\\charl\\anaconda3\\envs\\venv\\lib\\site-packages (from spacy) (1.26.4)\n",
            "Requirement already satisfied: language-data>=1.2 in d:\\users\\charl\\anaconda3\\envs\\venv\\lib\\site-packages (from langcodes<4.0.0,>=3.2.0->spacy) (1.2.0)\n",
            "Requirement already satisfied: annotated-types>=0.4.0 in d:\\users\\charl\\anaconda3\\envs\\venv\\lib\\site-packages (from pydantic!=1.8,!=1.8.1,<3.0.0,>=1.7.4->spacy) (0.6.0)\n",
            "Requirement already satisfied: pydantic-core==2.16.3 in d:\\users\\charl\\anaconda3\\envs\\venv\\lib\\site-packages (from pydantic!=1.8,!=1.8.1,<3.0.0,>=1.7.4->spacy) (2.16.3)\n",
            "Requirement already satisfied: typing-extensions>=4.6.1 in d:\\users\\charl\\anaconda3\\envs\\venv\\lib\\site-packages (from pydantic!=1.8,!=1.8.1,<3.0.0,>=1.7.4->spacy) (4.10.0)\n",
            "Requirement already satisfied: charset-normalizer<4,>=2 in d:\\users\\charl\\anaconda3\\envs\\venv\\lib\\site-packages (from requests<3.0.0,>=2.13.0->spacy) (2.0.4)\n",
            "Requirement already satisfied: idna<4,>=2.5 in d:\\users\\charl\\anaconda3\\envs\\venv\\lib\\site-packages (from requests<3.0.0,>=2.13.0->spacy) (3.4)\n",
            "Requirement already satisfied: urllib3<3,>=1.21.1 in d:\\users\\charl\\anaconda3\\envs\\venv\\lib\\site-packages (from requests<3.0.0,>=2.13.0->spacy) (2.1.0)\n",
            "Requirement already satisfied: certifi>=2017.4.17 in d:\\users\\charl\\anaconda3\\envs\\venv\\lib\\site-packages (from requests<3.0.0,>=2.13.0->spacy) (2024.2.2)\n",
            "Requirement already satisfied: blis<0.8.0,>=0.7.8 in d:\\users\\charl\\anaconda3\\envs\\venv\\lib\\site-packages (from thinc<8.3.0,>=8.2.2->spacy) (0.7.11)\n",
            "Requirement already satisfied: confection<1.0.0,>=0.0.1 in d:\\users\\charl\\anaconda3\\envs\\venv\\lib\\site-packages (from thinc<8.3.0,>=8.2.2->spacy) (0.1.4)\n",
            "Requirement already satisfied: colorama in d:\\users\\charl\\anaconda3\\envs\\venv\\lib\\site-packages (from tqdm<5.0.0,>=4.38.0->spacy) (0.4.6)\n",
            "Requirement already satisfied: click<9.0.0,>=7.1.1 in d:\\users\\charl\\anaconda3\\envs\\venv\\lib\\site-packages (from typer<0.10.0,>=0.3.0->spacy) (8.1.7)\n",
            "Requirement already satisfied: cloudpathlib<0.17.0,>=0.7.0 in d:\\users\\charl\\anaconda3\\envs\\venv\\lib\\site-packages (from weasel<0.4.0,>=0.1.0->spacy) (0.16.0)\n",
            "Requirement already satisfied: MarkupSafe>=2.0 in d:\\users\\charl\\anaconda3\\envs\\venv\\lib\\site-packages (from jinja2->spacy) (2.1.5)\n",
            "Requirement already satisfied: marisa-trie>=0.7.7 in d:\\users\\charl\\anaconda3\\envs\\venv\\lib\\site-packages (from language-data>=1.2->langcodes<4.0.0,>=3.2.0->spacy) (1.1.0)\n"
          ]
        }
      ],
      "source": [
        "!pip install spacy"
      ]
    },
    {
      "cell_type": "code",
      "execution_count": 19,
      "metadata": {},
      "outputs": [
        {
          "name": "stdout",
          "output_type": "stream",
          "text": [
            "Requirement already satisfied: pandas in d:\\users\\charl\\anaconda3\\envs\\venv\\lib\\site-packages (2.2.1)\n",
            "Requirement already satisfied: numpy<2,>=1.23.2 in d:\\users\\charl\\anaconda3\\envs\\venv\\lib\\site-packages (from pandas) (1.26.4)\n",
            "Requirement already satisfied: python-dateutil>=2.8.2 in d:\\users\\charl\\anaconda3\\envs\\venv\\lib\\site-packages (from pandas) (2.9.0.post0)\n",
            "Requirement already satisfied: pytz>=2020.1 in d:\\users\\charl\\anaconda3\\envs\\venv\\lib\\site-packages (from pandas) (2024.1)\n",
            "Requirement already satisfied: tzdata>=2022.7 in d:\\users\\charl\\anaconda3\\envs\\venv\\lib\\site-packages (from pandas) (2024.1)\n",
            "Requirement already satisfied: six>=1.5 in d:\\users\\charl\\anaconda3\\envs\\venv\\lib\\site-packages (from python-dateutil>=2.8.2->pandas) (1.16.0)\n"
          ]
        }
      ],
      "source": [
        "!pip install pandas"
      ]
    },
    {
      "cell_type": "code",
      "execution_count": 20,
      "metadata": {},
      "outputs": [
        {
          "name": "stdout",
          "output_type": "stream",
          "text": [
            "Requirement already satisfied: scikit-learn in d:\\users\\charl\\anaconda3\\envs\\venv\\lib\\site-packages (1.4.2)\n",
            "Requirement already satisfied: numpy>=1.19.5 in d:\\users\\charl\\anaconda3\\envs\\venv\\lib\\site-packages (from scikit-learn) (1.26.4)\n",
            "Requirement already satisfied: scipy>=1.6.0 in d:\\users\\charl\\anaconda3\\envs\\venv\\lib\\site-packages (from scikit-learn) (1.13.0)\n",
            "Requirement already satisfied: joblib>=1.2.0 in d:\\users\\charl\\anaconda3\\envs\\venv\\lib\\site-packages (from scikit-learn) (1.4.0)\n",
            "Requirement already satisfied: threadpoolctl>=2.0.0 in d:\\users\\charl\\anaconda3\\envs\\venv\\lib\\site-packages (from scikit-learn) (3.5.0)\n"
          ]
        }
      ],
      "source": [
        "!pip install scikit-learn\n"
      ]
    },
    {
      "cell_type": "code",
      "execution_count": 21,
      "metadata": {
        "id": "60UNsLSIc5lr"
      },
      "outputs": [],
      "source": [
        "import pandas as pd\n",
        "\n",
        "# Load the dataset\n",
        "df = pd.read_csv('travel_data.csv')\n",
        "\n",
        "# Step 2: Intent Recognition\n",
        "from sklearn.model_selection import train_test_split\n",
        "from sklearn.feature_extraction.text import TfidfVectorizer\n",
        "from sklearn.svm import SVC\n",
        "from sklearn.metrics import accuracy_score\n"
      ]
    },
    {
      "cell_type": "code",
      "execution_count": 22,
      "metadata": {
        "colab": {
          "base_uri": "https://localhost:8080/"
        },
        "id": "6h3rabQVdOLs",
        "outputId": "9ff27fdc-08c1-4680-8915-95e0e0876f52"
      },
      "outputs": [
        {
          "name": "stdout",
          "output_type": "stream",
          "text": [
            "Intent Recognition Accuracy: 0.8\n"
          ]
        },
        {
          "ename": "OSError",
          "evalue": "[E050] Can't find model 'en_core_web_sm'. It doesn't seem to be a Python package or a valid path to a data directory.",
          "output_type": "error",
          "traceback": [
            "\u001b[1;31m---------------------------------------------------------------------------\u001b[0m",
            "\u001b[1;31mOSError\u001b[0m                                   Traceback (most recent call last)",
            "Cell \u001b[1;32mIn[22], line 21\u001b[0m\n\u001b[0;32m     18\u001b[0m \u001b[38;5;66;03m# Step 3: Entity Extraction (NER using spaCy)\u001b[39;00m\n\u001b[0;32m     19\u001b[0m \u001b[38;5;28;01mimport\u001b[39;00m \u001b[38;5;21;01mspacy\u001b[39;00m\n\u001b[1;32m---> 21\u001b[0m nlp \u001b[38;5;241m=\u001b[39m \u001b[43mspacy\u001b[49m\u001b[38;5;241;43m.\u001b[39;49m\u001b[43mload\u001b[49m\u001b[43m(\u001b[49m\u001b[38;5;124;43m'\u001b[39;49m\u001b[38;5;124;43men_core_web_sm\u001b[39;49m\u001b[38;5;124;43m'\u001b[39;49m\u001b[43m)\u001b[49m\n\u001b[0;32m     23\u001b[0m \u001b[38;5;28;01mdef\u001b[39;00m \u001b[38;5;21mextract_entities\u001b[39m(text):\n\u001b[0;32m     24\u001b[0m     doc \u001b[38;5;241m=\u001b[39m nlp(text)\n",
            "File \u001b[1;32md:\\Users\\charl\\anaconda3\\envs\\venv\\Lib\\site-packages\\spacy\\__init__.py:51\u001b[0m, in \u001b[0;36mload\u001b[1;34m(name, vocab, disable, enable, exclude, config)\u001b[0m\n\u001b[0;32m     27\u001b[0m \u001b[38;5;28;01mdef\u001b[39;00m \u001b[38;5;21mload\u001b[39m(\n\u001b[0;32m     28\u001b[0m     name: Union[\u001b[38;5;28mstr\u001b[39m, Path],\n\u001b[0;32m     29\u001b[0m     \u001b[38;5;241m*\u001b[39m,\n\u001b[1;32m   (...)\u001b[0m\n\u001b[0;32m     34\u001b[0m     config: Union[Dict[\u001b[38;5;28mstr\u001b[39m, Any], Config] \u001b[38;5;241m=\u001b[39m util\u001b[38;5;241m.\u001b[39mSimpleFrozenDict(),\n\u001b[0;32m     35\u001b[0m ) \u001b[38;5;241m-\u001b[39m\u001b[38;5;241m>\u001b[39m Language:\n\u001b[0;32m     36\u001b[0m \u001b[38;5;250m    \u001b[39m\u001b[38;5;124;03m\"\"\"Load a spaCy model from an installed package or a local path.\u001b[39;00m\n\u001b[0;32m     37\u001b[0m \n\u001b[0;32m     38\u001b[0m \u001b[38;5;124;03m    name (str): Package name or model path.\u001b[39;00m\n\u001b[1;32m   (...)\u001b[0m\n\u001b[0;32m     49\u001b[0m \u001b[38;5;124;03m    RETURNS (Language): The loaded nlp object.\u001b[39;00m\n\u001b[0;32m     50\u001b[0m \u001b[38;5;124;03m    \"\"\"\u001b[39;00m\n\u001b[1;32m---> 51\u001b[0m     \u001b[38;5;28;01mreturn\u001b[39;00m \u001b[43mutil\u001b[49m\u001b[38;5;241;43m.\u001b[39;49m\u001b[43mload_model\u001b[49m\u001b[43m(\u001b[49m\n\u001b[0;32m     52\u001b[0m \u001b[43m        \u001b[49m\u001b[43mname\u001b[49m\u001b[43m,\u001b[49m\n\u001b[0;32m     53\u001b[0m \u001b[43m        \u001b[49m\u001b[43mvocab\u001b[49m\u001b[38;5;241;43m=\u001b[39;49m\u001b[43mvocab\u001b[49m\u001b[43m,\u001b[49m\n\u001b[0;32m     54\u001b[0m \u001b[43m        \u001b[49m\u001b[43mdisable\u001b[49m\u001b[38;5;241;43m=\u001b[39;49m\u001b[43mdisable\u001b[49m\u001b[43m,\u001b[49m\n\u001b[0;32m     55\u001b[0m \u001b[43m        \u001b[49m\u001b[43menable\u001b[49m\u001b[38;5;241;43m=\u001b[39;49m\u001b[43menable\u001b[49m\u001b[43m,\u001b[49m\n\u001b[0;32m     56\u001b[0m \u001b[43m        \u001b[49m\u001b[43mexclude\u001b[49m\u001b[38;5;241;43m=\u001b[39;49m\u001b[43mexclude\u001b[49m\u001b[43m,\u001b[49m\n\u001b[0;32m     57\u001b[0m \u001b[43m        \u001b[49m\u001b[43mconfig\u001b[49m\u001b[38;5;241;43m=\u001b[39;49m\u001b[43mconfig\u001b[49m\u001b[43m,\u001b[49m\n\u001b[0;32m     58\u001b[0m \u001b[43m    \u001b[49m\u001b[43m)\u001b[49m\n",
            "File \u001b[1;32md:\\Users\\charl\\anaconda3\\envs\\venv\\Lib\\site-packages\\spacy\\util.py:472\u001b[0m, in \u001b[0;36mload_model\u001b[1;34m(name, vocab, disable, enable, exclude, config)\u001b[0m\n\u001b[0;32m    470\u001b[0m \u001b[38;5;28;01mif\u001b[39;00m name \u001b[38;5;129;01min\u001b[39;00m OLD_MODEL_SHORTCUTS:\n\u001b[0;32m    471\u001b[0m     \u001b[38;5;28;01mraise\u001b[39;00m \u001b[38;5;167;01mIOError\u001b[39;00m(Errors\u001b[38;5;241m.\u001b[39mE941\u001b[38;5;241m.\u001b[39mformat(name\u001b[38;5;241m=\u001b[39mname, full\u001b[38;5;241m=\u001b[39mOLD_MODEL_SHORTCUTS[name]))  \u001b[38;5;66;03m# type: ignore[index]\u001b[39;00m\n\u001b[1;32m--> 472\u001b[0m \u001b[38;5;28;01mraise\u001b[39;00m \u001b[38;5;167;01mIOError\u001b[39;00m(Errors\u001b[38;5;241m.\u001b[39mE050\u001b[38;5;241m.\u001b[39mformat(name\u001b[38;5;241m=\u001b[39mname))\n",
            "\u001b[1;31mOSError\u001b[0m: [E050] Can't find model 'en_core_web_sm'. It doesn't seem to be a Python package or a valid path to a data directory."
          ]
        }
      ],
      "source": [
        "\n",
        "\n",
        "# Split data into train and test sets\n",
        "X_train, X_test, y_train, y_test = train_test_split(df['utterance'], df['intent'], test_size=0.2, random_state=42)\n",
        "\n",
        "# TF-IDF vectorization\n",
        "tfidf_vectorizer = TfidfVectorizer()\n",
        "X_train_tfidf = tfidf_vectorizer.fit_transform(X_train)\n",
        "X_test_tfidf = tfidf_vectorizer.transform(X_test)\n",
        "\n",
        "# Train an SVM classifier\n",
        "svm_classifier = SVC(kernel='linear')\n",
        "svm_classifier.fit(X_train_tfidf, y_train)\n",
        "\n",
        "# Predictions\n",
        "y_pred = svm_classifier.predict(X_test_tfidf)\n",
        "accuracy = accuracy_score(y_test, y_pred)\n",
        "print(\"Intent Recognition Accuracy:\", accuracy)\n",
        "\n",
        "# Step 3: Entity Extraction (NER using spaCy)\n",
        "import spacy\n",
        "\n",
        "nlp = spacy.load('en_core_web_sm')\n",
        "\n",
        "def extract_entities(text):\n",
        "    doc = nlp(text)\n",
        "    entities = [(ent.text, ent.label_) for ent in doc.ents]\n",
        "    return entities\n",
        "\n",
        "# Example usage:\n",
        "text = \"I want to book a flight from New York to London tomorrow.\"\n",
        "entities = extract_entities(text)\n",
        "print(\"Entities:\", entities)\n",
        "\n",
        "\n"
      ]
    },
    {
      "cell_type": "code",
      "execution_count": null,
      "metadata": {
        "colab": {
          "base_uri": "https://localhost:8080/"
        },
        "id": "ZaoMwrGPd6B4",
        "outputId": "cffaecd5-5a93-45fe-f4f1-586782e48e7c"
      },
      "outputs": [
        {
          "name": "stdout",
          "output_type": "stream",
          "text": [
            "Filled Slots: {'origin': 'New York', 'destination': 'London', 'date': 'tomorrow', 'travel_class': 'first class'}\n",
            "Conversation Context: {'intent': 'book_flight', 'entities': [('New York', 'GPE'), ('London', 'GPE'), ('tomorrow', 'DATE'), ('first class', 'TRAVEL_CLASS')]}\n"
          ]
        }
      ],
      "source": [
        "# Sample slot filling and context handling implementation\n",
        "class SlotFiller:\n",
        "    def __init__(self):\n",
        "        self.slots = {\n",
        "            'origin': None,\n",
        "            'destination': None,\n",
        "            'date': None,\n",
        "            'travel_class': None\n",
        "        }\n",
        "\n",
        "    def fill_slots(self, entities):\n",
        "        for entity, label in entities:\n",
        "            if label == 'GPE':  # Geopolitical Entity (e.g., city or country)\n",
        "                if not self.slots['origin']:\n",
        "                    self.slots['origin'] = entity\n",
        "                elif not self.slots['destination']:\n",
        "                    self.slots['destination'] = entity\n",
        "            elif label == 'DATE':\n",
        "                self.slots['date'] = entity\n",
        "            elif label == 'TRAVEL_CLASS':\n",
        "                self.slots['travel_class'] = entity\n",
        "\n",
        "    def reset_slots(self):\n",
        "        self.slots = {\n",
        "            'origin': None,\n",
        "            'destination': None,\n",
        "            'date': None,\n",
        "            'travel_class': None\n",
        "        }\n",
        "\n",
        "class ContextHandler:\n",
        "    def __init__(self):\n",
        "        self.context = {}\n",
        "\n",
        "    def update_context(self, intent, entities):\n",
        "        self.context['intent'] = intent\n",
        "        self.context['entities'] = entities\n",
        "\n",
        "    def reset_context(self):\n",
        "        self.context = {}\n",
        "\n",
        "# Example usage:\n",
        "slot_filler = SlotFiller()\n",
        "context_handler = ContextHandler()\n",
        "\n",
        "# Assume 'entities' is the list of entities extracted from the user's input\n",
        "entities = [('New York', 'GPE'), ('London', 'GPE'), ('tomorrow', 'DATE'), ('first class', 'TRAVEL_CLASS')]\n",
        "\n",
        "# Fill slots based on recognized entities\n",
        "slot_filler.fill_slots(entities)\n",
        "\n",
        "# Assume 'intent' is the recognized intent\n",
        "intent = 'book_flight'\n",
        "\n",
        "# Update context with intent and entities\n",
        "context_handler.update_context(intent, entities)\n",
        "\n",
        "# Access filled slots and context\n",
        "filled_slots = slot_filler.slots\n",
        "conversation_context = context_handler.context\n",
        "\n",
        "print(\"Filled Slots:\", filled_slots)\n",
        "print(\"Conversation Context:\", conversation_context)\n",
        "\n",
        "# Reset slots and context for next turn\n",
        "slot_filler.reset_slots()\n",
        "context_handler.reset_context()\n"
      ]
    },
    {
      "cell_type": "code",
      "execution_count": null,
      "metadata": {
        "colab": {
          "base_uri": "https://localhost:8080/"
        },
        "id": "hOLictONeH3z",
        "outputId": "94d971cc-8dc9-4f14-9ce6-6b096f1a1781"
      },
      "outputs": [
        {
          "name": "stdout",
          "output_type": "stream",
          "text": [
            "Response: Goodbye! Have a great day.\n"
          ]
        }
      ],
      "source": [
        "class DialogManager:\n",
        "    def __init__(self):\n",
        "        self.responses = {\n",
        "            'greet': \"Hello! How can I assist you today?\",\n",
        "            'goodbye': \"Goodbye! Have a great day.\",\n",
        "            'book_flight': \"Sure, I can help you book a flight from {origin} to {destination} on {date}.\",\n",
        "            'fallback': \"I'm sorry, I didn't understand. Can you please rephrase?\"\n",
        "        }\n",
        "\n",
        "    def generate_response(self, intent, filled_slots):\n",
        "        if intent in self.responses:\n",
        "            response_template = self.responses[intent]\n",
        "            if '{' in response_template:\n",
        "                filled_response = response_template.format(**filled_slots)\n",
        "                return filled_response\n",
        "            else:\n",
        "                return response_template\n",
        "        else:\n",
        "            return self.responses['fallback']\n",
        "\n",
        "# Example usage:\n",
        "dialog_manager = DialogManager()\n",
        "\n",
        "# Assume filled slots and recognized intent\n",
        "filled_slots = {'origin': 'New York', 'destination': 'London', 'date': 'tomorrow'}\n",
        "intent = 'goodbye'\n",
        "\n",
        "# Generate response based on intent and filled slots\n",
        "response = dialog_manager.generate_response(intent, filled_slots)\n",
        "print(\"Response:\", response)\n"
      ]
    },
    {
      "cell_type": "code",
      "execution_count": null,
      "metadata": {
        "colab": {
          "base_uri": "https://localhost:8080/"
        },
        "id": "HNXx_M0dekZj",
        "outputId": "5f355aa3-6e01-431e-b10f-525f5ba3b05d"
      },
      "outputs": [
        {
          "name": "stdout",
          "output_type": "stream",
          "text": [
            "Intent Recognition Accuracy: 0.8\n",
            "Classification Report:\n",
            "              precision    recall  f1-score   support\n",
            "\n",
            " book_flight       1.00      1.00      1.00         1\n",
            "   set_alarm       0.00      0.00      0.00         1\n",
            "     weather       0.75      1.00      0.86         3\n",
            "\n",
            "    accuracy                           0.80         5\n",
            "   macro avg       0.58      0.67      0.62         5\n",
            "weighted avg       0.65      0.80      0.71         5\n",
            "\n"
          ]
        },
        {
          "name": "stderr",
          "output_type": "stream",
          "text": [
            "/usr/local/lib/python3.10/dist-packages/sklearn/metrics/_classification.py:1344: UndefinedMetricWarning: Precision and F-score are ill-defined and being set to 0.0 in labels with no predicted samples. Use `zero_division` parameter to control this behavior.\n",
            "  _warn_prf(average, modifier, msg_start, len(result))\n",
            "/usr/local/lib/python3.10/dist-packages/sklearn/metrics/_classification.py:1344: UndefinedMetricWarning: Precision and F-score are ill-defined and being set to 0.0 in labels with no predicted samples. Use `zero_division` parameter to control this behavior.\n",
            "  _warn_prf(average, modifier, msg_start, len(result))\n",
            "/usr/local/lib/python3.10/dist-packages/sklearn/metrics/_classification.py:1344: UndefinedMetricWarning: Precision and F-score are ill-defined and being set to 0.0 in labels with no predicted samples. Use `zero_division` parameter to control this behavior.\n",
            "  _warn_prf(average, modifier, msg_start, len(result))\n"
          ]
        }
      ],
      "source": [
        "from sklearn.metrics import accuracy_score, classification_report\n",
        "\n",
        "# Assuming y_test contains true intents and y_pred contains predicted intents\n",
        "intent_accuracy = accuracy_score(y_test, y_pred)\n",
        "print(\"Intent Recognition Accuracy:\", intent_accuracy)\n",
        "\n",
        "# Classification report for detailed performance metrics\n",
        "print(\"Classification Report:\")\n",
        "print(classification_report(y_test, y_pred))"
      ]
    },
    {
      "cell_type": "code",
      "execution_count": null,
      "metadata": {
        "id": "qfEld9kveqZ-"
      },
      "outputs": [],
      "source": []
    },
    {
      "cell_type": "code",
      "execution_count": null,
      "metadata": {
        "colab": {
          "base_uri": "https://localhost:8080/"
        },
        "id": "1_XXqcoEeaNo",
        "outputId": "79458a96-de44-475b-cf25-9dd4b9fb59cd"
      },
      "outputs": [
        {
          "name": "stdout",
          "output_type": "stream",
          "text": [
            "Entity Extraction Precision: 0.6666666666666666\n",
            "Entity Extraction Recall: 0.6666666666666666\n",
            "Entity Extraction F1 Score: 0.6666666666666666\n"
          ]
        },
        {
          "name": "stderr",
          "output_type": "stream",
          "text": [
            "/usr/local/lib/python3.10/dist-packages/sklearn/metrics/_classification.py:1344: UndefinedMetricWarning: Precision is ill-defined and being set to 0.0 in labels with no predicted samples. Use `zero_division` parameter to control this behavior.\n",
            "  _warn_prf(average, modifier, msg_start, len(result))\n",
            "/usr/local/lib/python3.10/dist-packages/sklearn/metrics/_classification.py:1344: UndefinedMetricWarning: Recall is ill-defined and being set to 0.0 in labels with no true samples. Use `zero_division` parameter to control this behavior.\n",
            "  _warn_prf(average, modifier, msg_start, len(result))\n"
          ]
        }
      ],
      "source": [
        "from sklearn.metrics import precision_score, recall_score, f1_score\n",
        "\n",
        "# Assuming true_entities contains true entities and predicted_entities contains predicted entities\n",
        "true_entities = ['New York', 'London', 'tomorrow']\n",
        "predicted_entities = ['New York', 'London', 'today']\n",
        "\n",
        "# Calculate precision, recall, and F1-score for entity extraction\n",
        "entity_precision = precision_score(true_entities, predicted_entities, average='weighted')\n",
        "entity_recall = recall_score(true_entities, predicted_entities, average='weighted')\n",
        "entity_f1_score = f1_score(true_entities, predicted_entities, average='weighted')\n",
        "\n",
        "print(\"Entity Extraction Precision:\", entity_precision)\n",
        "print(\"Entity Extraction Recall:\", entity_recall)\n",
        "print(\"Entity Extraction F1 Score:\", entity_f1_score)\n"
      ]
    },
    {
      "cell_type": "code",
      "execution_count": null,
      "metadata": {
        "colab": {
          "base_uri": "https://localhost:8080/"
        },
        "id": "HJFI6uNsfHnF",
        "outputId": "aecdad85-ef8a-44bd-d09e-93fd419db092"
      },
      "outputs": [
        {
          "name": "stdout",
          "output_type": "stream",
          "text": [
            "Initial Model Accuracy: 0.8\n",
            "Updated Model Accuracy: 0.8\n"
          ]
        }
      ],
      "source": [
        "from sklearn.model_selection import train_test_split\n",
        "from sklearn.feature_extraction.text import TfidfVectorizer\n",
        "from sklearn.svm import SVC\n",
        "from sklearn.metrics import accuracy_score\n",
        "\n",
        "# Assuming df contains your dataset with 'utterance' and 'intent' columns\n",
        "# Initial split into training and testing sets\n",
        "X_train, X_test, y_train, y_test = train_test_split(df['utterance'], df['intent'], test_size=0.2, random_state=42)\n",
        "\n",
        "# Initial model training\n",
        "tfidf_vectorizer = TfidfVectorizer()\n",
        "X_train_tfidf = tfidf_vectorizer.fit_transform(X_train)\n",
        "X_test_tfidf = tfidf_vectorizer.transform(X_test)\n",
        "\n",
        "svm_classifier = SVC(kernel='linear')\n",
        "svm_classifier.fit(X_train_tfidf, y_train)\n",
        "\n",
        "y_pred_initial = svm_classifier.predict(X_test_tfidf)\n",
        "initial_accuracy = accuracy_score(y_test, y_pred_initial)\n",
        "print(\"Initial Model Accuracy:\", initial_accuracy)\n",
        "\n",
        "# Analyze evaluation results and gather feedback\n",
        "# Example: Analyze misclassified instances, gather user feedback, etc.\n",
        "\n",
        "# Identify improvement opportunities\n",
        "# Example: Improve quality of training data, fine-tune hyperparameters, experiment with different features or architectures\n",
        "\n",
        "# Implement changes\n",
        "# Example: Update training data, modify model architecture, fine-tune hyperparameters, integrate new features\n",
        "\n",
        "# Re-train and evaluate the updated model\n",
        "svm_classifier.fit(X_train_tfidf, y_train)\n",
        "y_pred_updated = svm_classifier.predict(X_test_tfidf)\n",
        "updated_accuracy = accuracy_score(y_test, y_pred_updated)\n",
        "print(\"Updated Model Accuracy:\", updated_accuracy)\n",
        "\n",
        "# Continue iterating through the improvement cycle as needed\n"
      ]
    },
    {
      "cell_type": "code",
      "execution_count": null,
      "metadata": {
        "colab": {
          "base_uri": "https://localhost:8080/",
          "height": 1000
        },
        "id": "XiZOWMM0gnon",
        "outputId": "4b1876b1-7873-427c-9b2a-aceba3493023"
      },
      "outputs": [
        {
          "data": {
            "image/png": "[encoded data removed]",
            "text/plain": [
              "<Figure size 800x600 with 1 Axes>"
            ]
          },
          "metadata": {},
          "output_type": "display_data"
        },
        {
          "data": {
            "image/png": "[encoded data removed]",
            "text/plain": [
              "<Figure size 800x600 with 1 Axes>"
            ]
          },
          "metadata": {},
          "output_type": "display_data"
        },
        {
          "data": {
            "image/png": "[encoded data removed]",
            "text/plain": [
              "<Figure size 800x600 with 2 Axes>"
            ]
          },
          "metadata": {},
          "output_type": "display_data"
        }
      ],
      "source": [
        "import matplotlib.pyplot as plt\n",
        "import seaborn as sns\n",
        "from sklearn.metrics import confusion_matrix\n",
        "\n",
        "# Sample data for visualization (replace with actual data)\n",
        "intents = ['book_flight', 'cancel_flight', 'check_flight_status', 'change_reservation', 'other']\n",
        "intent_counts = [500, 200, 300, 150, 350]\n",
        "\n",
        "entity_types = ['LOCATION', 'DATE', 'TRAVEL_CLASS', 'PERSON', 'OTHER']\n",
        "entity_counts = [800, 400, 300, 200, 500]\n",
        "\n",
        "# Visualize Intent Distribution\n",
        "plt.figure(figsize=(8, 6))\n",
        "plt.bar(intents, intent_counts, color='skyblue')\n",
        "plt.xlabel('Intents')\n",
        "plt.ylabel('Number of Samples')\n",
        "plt.title('Intent Distribution')\n",
        "plt.show()\n",
        "\n",
        "# Visualize Named Entity Types Distribution\n",
        "plt.figure(figsize=(8, 6))\n",
        "plt.pie(entity_counts, labels=entity_types, autopct='%1.1f%%', colors=sns.color_palette('pastel'))\n",
        "plt.title('Named Entity Types Distribution')\n",
        "plt.show()\n",
        "\n",
        "# Sample evaluation results (replace with actual results)\n",
        "y_true = ['book_flight', 'check_flight_status', 'cancel_flight', 'change_reservation', 'book_flight']\n",
        "y_pred = ['book_flight', 'check_flight_status', 'cancel_flight', 'cancel_flight', 'other']\n",
        "\n",
        "# Create Confusion Matrix\n",
        "conf_matrix = confusion_matrix(y_true, y_pred, labels=intents)\n",
        "\n",
        "# Visualize Confusion Matrix\n",
        "plt.figure(figsize=(8, 6))\n",
        "sns.heatmap(conf_matrix, annot=True, fmt='d', cmap='Blues', xticklabels=intents, yticklabels=intents)\n",
        "plt.xlabel('Predicted Intent')\n",
        "plt.ylabel('True Intent')\n",
        "plt.title('Confusion Matrix')\n",
        "plt.show()\n"
      ]
    },
    {
      "cell_type": "code",
      "execution_count": null,
      "metadata": {
        "id": "galxfb3mfMAY"
      },
      "outputs": [],
      "source": [
        "class NLU_Module:\n",
        "    \"\"\"\n",
        "    Natural Language Understanding (NLU) Module for Travel Domain Chatbot.\n",
        "\n",
        "    This module performs intent recognition, entity extraction, slot filling, and context handling.\n",
        "\n",
        "    Attributes:\n",
        "    - intent_classifier: Machine learning model for intent recognition.\n",
        "    - entity_extractor: Named Entity Recognition (NER) model.\n",
        "    - slot_filler: Mechanism for filling slots based on recognized entities.\n",
        "    - context_handler: Mechanism for maintaining conversation context.\n",
        "\n",
        "    Methods:\n",
        "    - process_input(input_text): Process user input and return recognized intent, entities, and filled slots.\n",
        "    - generate_response(intent, filled_slots): Generate a response based on recognized intent and filled slots.\n",
        "    \"\"\"\n",
        "\n",
        "    def __init__(self, intent_classifier, entity_extractor, slot_filler, context_handler):\n",
        "        \"\"\"\n",
        "        Initialize the NLU module with provided components.\n",
        "\n",
        "        Args:\n",
        "        - intent_classifier: Machine learning model for intent recognition.\n",
        "        - entity_extractor: Named Entity Recognition (NER) model.\n",
        "        - slot_filler: Mechanism for filling slots based on recognized entities.\n",
        "        - context_handler: Mechanism for maintaining conversation context.\n",
        "        \"\"\"\n",
        "        self.intent_classifier = intent_classifier\n",
        "        self.entity_extractor = entity_extractor\n",
        "        self.slot_filler = slot_filler\n",
        "        self.context_handler = context_handler\n",
        "\n",
        "    def process_input(self, input_text):\n",
        "        \"\"\"\n",
        "        Process user input and return recognized intent, entities, and filled slots.\n",
        "\n",
        "        Args:\n",
        "        - input_text: User input text.\n",
        "\n",
        "        Returns:\n",
        "        - intent: Recognized intent.\n",
        "        - entities: Extracted entities.\n",
        "        - filled_slots: Filled slots based on recognized entities.\n",
        "        \"\"\"\n",
        "        # Intent recognition\n",
        "        intent = self.intent_classifier.predict(input_text)\n",
        "\n",
        "        # Entity extraction\n",
        "        entities = self.entity_extractor.extract_entities(input_text)\n",
        "\n",
        "        # Slot filling\n",
        "        filled_slots = self.slot_filler.fill_slots(entities)\n",
        "\n",
        "        # Update conversation context\n",
        "        self.context_handler.update_context(intent, entities)\n",
        "\n",
        "        return intent, entities, filled_slots\n",
        "\n",
        "    def generate_response(self, intent, filled_slots):\n",
        "        if intent == 'book_flight':\n",
        "            origin = filled_slots.get('origin', 'somewhere')\n",
        "            destination = filled_slots.get('destination', 'somewhere else')\n",
        "            date = filled_slots.get('date', 'some day')\n",
        "            travel_class = filled_slots.get('travel_class', 'economy')\n",
        "            response = f\"Sure, I can help you book a flight from {origin} to {destination} on {date} in {travel_class} class.\"\n",
        "        else:\n",
        "            response = \"I'm sorry, I didn't understand. Can you please rephrase?\"\n",
        "\n",
        "        return response\n"
      ]
    }
  ],
  "metadata": {
    "colab": {
      "provenance": []
    },
    "kernelspec": {
      "display_name": "venv",
      "language": "python",
      "name": "venv"
    },
    "language_info": {
      "codemirror_mode": {
        "name": "ipython",
        "version": 3
      },
      "file_extension": ".py",
      "mimetype": "text/x-python",
      "name": "python",
      "nbconvert_exporter": "python",
      "pygments_lexer": "ipython3",
      "version": "3.11.8"
    }
  },
  "nbformat": 4,
  "nbformat_minor": 0
}
